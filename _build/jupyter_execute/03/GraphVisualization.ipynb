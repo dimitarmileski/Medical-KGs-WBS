{
 "cells": [
  {
   "cell_type": "markdown",
   "metadata": {},
   "source": [
    "# Graph Visualization with ipycytoscape\n",
    "This notebook demonstrates the visualization of subgraphs from the [Neo4j](https://neo4j.com/) Graph Database. It uses the [py2neo](https://py2neo.org/) library to access a Neo4j database instance.\n",
    "\n",
    "The examples in this notebook access the [COVID-19-Net](https://github.com/covid-19-net/covid-19-community) Knowledge Graph.\n",
    "\n",
    "Author: Peter W. Rose (pwrose@ucsd.edu)"
   ]
  },
  {
   "cell_type": "code",
   "execution_count": 2,
   "metadata": {},
   "outputs": [
    {
     "name": "stdout",
     "output_type": "stream",
     "text": [
      "Collecting ipycytoscape"
     ]
    },
    {
     "name": "stderr",
     "output_type": "stream",
     "text": [
      "WARNING: You are using pip version 20.0.2; however, version 21.0.1 is available.\n",
      "You should consider upgrading via the 'C:\\Users\\Dimitar\\Anaconda3\\envs\\jupyterbook_env\\python.exe -m pip install --upgrade pip' command.\n"
     ]
    },
    {
     "name": "stdout",
     "output_type": "stream",
     "text": [
      "\n",
      "  Downloading ipycytoscape-1.2.0-py2.py3-none-any.whl (3.6 MB)\n",
      "Requirement already satisfied: ipywidgets>=7.6.0 in c:\\users\\dimitar\\appdata\\roaming\\python\\python37\\site-packages (from ipycytoscape) (7.6.3)\n",
      "Collecting networkx\n",
      "  Using cached networkx-2.5-py3-none-any.whl (1.6 MB)\n",
      "Collecting spectate>=0.4.1\n",
      "  Downloading spectate-1.0.1-py2.py3-none-any.whl (11 kB)\n",
      "Requirement already satisfied: nbformat>=4.2.0 in c:\\users\\dimitar\\anaconda3\\envs\\jupyterbook_env\\lib\\site-packages (from ipywidgets>=7.6.0->ipycytoscape) (5.1.2)\n",
      "Requirement already satisfied: jupyterlab-widgets>=1.0.0; python_version >= \"3.6\" in c:\\users\\dimitar\\appdata\\roaming\\python\\python37\\site-packages (from ipywidgets>=7.6.0->ipycytoscape) (1.0.0)\n",
      "Requirement already satisfied: widgetsnbextension~=3.5.0 in c:\\users\\dimitar\\appdata\\roaming\\python\\python37\\site-packages (from ipywidgets>=7.6.0->ipycytoscape) (3.5.1)\n",
      "Requirement already satisfied: ipython>=4.0.0; python_version >= \"3.3\" in c:\\users\\dimitar\\anaconda3\\envs\\jupyterbook_env\\lib\\site-packages (from ipywidgets>=7.6.0->ipycytoscape) (7.19.0)\n",
      "Requirement already satisfied: traitlets>=4.3.1 in c:\\users\\dimitar\\appdata\\roaming\\python\\python37\\site-packages (from ipywidgets>=7.6.0->ipycytoscape) (4.3.3)\n",
      "Requirement already satisfied: ipykernel>=4.5.1 in c:\\users\\dimitar\\appdata\\roaming\\python\\python37\\site-packages (from ipywidgets>=7.6.0->ipycytoscape) (5.1.4)\n",
      "Requirement already satisfied: decorator>=4.3.0 in c:\\users\\dimitar\\appdata\\roaming\\python\\python37\\site-packages (from networkx->ipycytoscape) (4.4.1)\n",
      "Requirement already satisfied: ipython-genutils in c:\\users\\dimitar\\appdata\\roaming\\python\\python37\\site-packages (from nbformat>=4.2.0->ipywidgets>=7.6.0->ipycytoscape) (0.2.0)\n",
      "Requirement already satisfied: jsonschema!=2.5.0,>=2.4 in c:\\users\\dimitar\\anaconda3\\envs\\jupyterbook_env\\lib\\site-packages (from nbformat>=4.2.0->ipywidgets>=7.6.0->ipycytoscape) (3.2.0)\n",
      "Requirement already satisfied: jupyter-core in c:\\users\\dimitar\\appdata\\roaming\\python\\python37\\site-packages (from nbformat>=4.2.0->ipywidgets>=7.6.0->ipycytoscape) (4.6.3)\n",
      "Requirement already satisfied: notebook>=4.4.1 in c:\\users\\dimitar\\appdata\\roaming\\python\\python37\\site-packages (from widgetsnbextension~=3.5.0->ipywidgets>=7.6.0->ipycytoscape) (6.0.3)\n",
      "Requirement already satisfied: setuptools>=18.5 in c:\\users\\dimitar\\anaconda3\\envs\\jupyterbook_env\\lib\\site-packages (from ipython>=4.0.0; python_version >= \"3.3\"->ipywidgets>=7.6.0->ipycytoscape) (51.1.2.post20210112)\n",
      "Requirement already satisfied: colorama; sys_platform == \"win32\" in c:\\users\\dimitar\\appdata\\roaming\\python\\python37\\site-packages (from ipython>=4.0.0; python_version >= \"3.3\"->ipywidgets>=7.6.0->ipycytoscape) (0.4.3)\n",
      "Requirement already satisfied: backcall in c:\\users\\dimitar\\appdata\\roaming\\python\\python37\\site-packages (from ipython>=4.0.0; python_version >= \"3.3\"->ipywidgets>=7.6.0->ipycytoscape) (0.1.0)\n",
      "Requirement already satisfied: prompt-toolkit!=3.0.0,!=3.0.1,<3.1.0,>=2.0.0 in c:\\users\\dimitar\\appdata\\roaming\\python\\python37\\site-packages (from ipython>=4.0.0; python_version >= \"3.3\"->ipywidgets>=7.6.0->ipycytoscape) (3.0.3)\n",
      "Requirement already satisfied: pickleshare in c:\\users\\dimitar\\appdata\\roaming\\python\\python37\\site-packages (from ipython>=4.0.0; python_version >= \"3.3\"->ipywidgets>=7.6.0->ipycytoscape) (0.7.5)\n",
      "Requirement already satisfied: pygments in c:\\users\\dimitar\\appdata\\roaming\\python\\python37\\site-packages (from ipython>=4.0.0; python_version >= \"3.3\"->ipywidgets>=7.6.0->ipycytoscape) (2.5.2)\n",
      "Requirement already satisfied: jedi>=0.10 in c:\\users\\dimitar\\appdata\\roaming\\python\\python37\\site-packages (from ipython>=4.0.0; python_version >= \"3.3\"->ipywidgets>=7.6.0->ipycytoscape) (0.16.0)\n",
      "Requirement already satisfied: six in c:\\users\\dimitar\\appdata\\roaming\\python\\python37\\site-packages (from traitlets>=4.3.1->ipywidgets>=7.6.0->ipycytoscape) (1.14.0)\n",
      "Requirement already satisfied: tornado>=4.2 in c:\\users\\dimitar\\appdata\\roaming\\python\\python37\\site-packages (from ipykernel>=4.5.1->ipywidgets>=7.6.0->ipycytoscape) (6.0.3)\n",
      "Requirement already satisfied: jupyter-client in c:\\users\\dimitar\\anaconda3\\envs\\jupyterbook_env\\lib\\site-packages (from ipykernel>=4.5.1->ipywidgets>=7.6.0->ipycytoscape) (6.1.11)\n",
      "Requirement already satisfied: pyrsistent>=0.14.0 in c:\\users\\dimitar\\anaconda3\\envs\\jupyterbook_env\\lib\\site-packages (from jsonschema!=2.5.0,>=2.4->nbformat>=4.2.0->ipywidgets>=7.6.0->ipycytoscape) (0.17.3)\n",
      "Requirement already satisfied: attrs>=17.4.0 in c:\\users\\dimitar\\anaconda3\\envs\\jupyterbook_env\\lib\\site-packages (from jsonschema!=2.5.0,>=2.4->nbformat>=4.2.0->ipywidgets>=7.6.0->ipycytoscape) (20.3.0)\n",
      "Requirement already satisfied: importlib-metadata; python_version < \"3.8\" in c:\\users\\dimitar\\appdata\\roaming\\python\\python37\\site-packages (from jsonschema!=2.5.0,>=2.4->nbformat>=4.2.0->ipywidgets>=7.6.0->ipycytoscape) (1.5.0)\n",
      "Requirement already satisfied: pywin32>=1.0; sys_platform == \"win32\" in c:\\users\\dimitar\\appdata\\roaming\\python\\python37\\site-packages (from jupyter-core->nbformat>=4.2.0->ipywidgets>=7.6.0->ipycytoscape) (227)\n",
      "Requirement already satisfied: pyzmq>=17 in c:\\users\\dimitar\\appdata\\roaming\\python\\python37\\site-packages (from notebook>=4.4.1->widgetsnbextension~=3.5.0->ipywidgets>=7.6.0->ipycytoscape) (18.1.1)\n",
      "Requirement already satisfied: jinja2 in c:\\users\\dimitar\\anaconda3\\envs\\jupyterbook_env\\lib\\site-packages (from notebook>=4.4.1->widgetsnbextension~=3.5.0->ipywidgets>=7.6.0->ipycytoscape) (2.11.2)\n",
      "Requirement already satisfied: terminado>=0.8.1 in c:\\users\\dimitar\\appdata\\roaming\\python\\python37\\site-packages (from notebook>=4.4.1->widgetsnbextension~=3.5.0->ipywidgets>=7.6.0->ipycytoscape) (0.8.3)\n",
      "Requirement already satisfied: Send2Trash in c:\\users\\dimitar\\appdata\\roaming\\python\\python37\\site-packages (from notebook>=4.4.1->widgetsnbextension~=3.5.0->ipywidgets>=7.6.0->ipycytoscape) (1.5.0)\n",
      "Requirement already satisfied: nbconvert in c:\\users\\dimitar\\appdata\\roaming\\python\\python37\\site-packages (from notebook>=4.4.1->widgetsnbextension~=3.5.0->ipywidgets>=7.6.0->ipycytoscape) (5.6.1)\n",
      "Requirement already satisfied: prometheus-client in c:\\users\\dimitar\\appdata\\roaming\\python\\python37\\site-packages (from notebook>=4.4.1->widgetsnbextension~=3.5.0->ipywidgets>=7.6.0->ipycytoscape) (0.7.1)\n",
      "Requirement already satisfied: wcwidth in c:\\users\\dimitar\\appdata\\roaming\\python\\python37\\site-packages (from prompt-toolkit!=3.0.0,!=3.0.1,<3.1.0,>=2.0.0->ipython>=4.0.0; python_version >= \"3.3\"->ipywidgets>=7.6.0->ipycytoscape) (0.1.8)\n",
      "Requirement already satisfied: parso>=0.5.2 in c:\\users\\dimitar\\appdata\\roaming\\python\\python37\\site-packages (from jedi>=0.10->ipython>=4.0.0; python_version >= \"3.3\"->ipywidgets>=7.6.0->ipycytoscape) (0.6.1)\n",
      "Requirement already satisfied: python-dateutil>=2.1 in c:\\users\\dimitar\\anaconda3\\envs\\jupyterbook_env\\lib\\site-packages (from jupyter-client->ipykernel>=4.5.1->ipywidgets>=7.6.0->ipycytoscape) (2.8.1)\n",
      "Requirement already satisfied: zipp>=0.5 in c:\\users\\dimitar\\appdata\\roaming\\python\\python37\\site-packages (from importlib-metadata; python_version < \"3.8\"->jsonschema!=2.5.0,>=2.4->nbformat>=4.2.0->ipywidgets>=7.6.0->ipycytoscape) (3.0.0)\n",
      "Requirement already satisfied: MarkupSafe>=0.23 in c:\\users\\dimitar\\anaconda3\\envs\\jupyterbook_env\\lib\\site-packages (from jinja2->notebook>=4.4.1->widgetsnbextension~=3.5.0->ipywidgets>=7.6.0->ipycytoscape) (1.1.1)\n",
      "Requirement already satisfied: pywinpty>=0.5; os_name == \"nt\" in c:\\users\\dimitar\\appdata\\roaming\\python\\python37\\site-packages (from terminado>=0.8.1->notebook>=4.4.1->widgetsnbextension~=3.5.0->ipywidgets>=7.6.0->ipycytoscape) (0.5.7)\n",
      "Requirement already satisfied: mistune<2,>=0.8.1 in c:\\users\\dimitar\\appdata\\roaming\\python\\python37\\site-packages (from nbconvert->notebook>=4.4.1->widgetsnbextension~=3.5.0->ipywidgets>=7.6.0->ipycytoscape) (0.8.4)\n",
      "Requirement already satisfied: defusedxml in c:\\users\\dimitar\\appdata\\roaming\\python\\python37\\site-packages (from nbconvert->notebook>=4.4.1->widgetsnbextension~=3.5.0->ipywidgets>=7.6.0->ipycytoscape) (0.6.0)\n",
      "Requirement already satisfied: pandocfilters>=1.4.1 in c:\\users\\dimitar\\appdata\\roaming\\python\\python37\\site-packages (from nbconvert->notebook>=4.4.1->widgetsnbextension~=3.5.0->ipywidgets>=7.6.0->ipycytoscape) (1.4.2)\n",
      "Requirement already satisfied: testpath in c:\\users\\dimitar\\appdata\\roaming\\python\\python37\\site-packages (from nbconvert->notebook>=4.4.1->widgetsnbextension~=3.5.0->ipywidgets>=7.6.0->ipycytoscape) (0.4.4)\n",
      "Requirement already satisfied: entrypoints>=0.2.2 in c:\\users\\dimitar\\appdata\\roaming\\python\\python37\\site-packages (from nbconvert->notebook>=4.4.1->widgetsnbextension~=3.5.0->ipywidgets>=7.6.0->ipycytoscape) (0.3)\n",
      "Requirement already satisfied: bleach in c:\\users\\dimitar\\appdata\\roaming\\python\\python37\\site-packages (from nbconvert->notebook>=4.4.1->widgetsnbextension~=3.5.0->ipywidgets>=7.6.0->ipycytoscape) (3.1.1)\n",
      "Requirement already satisfied: webencodings in c:\\users\\dimitar\\appdata\\roaming\\python\\python37\\site-packages (from bleach->nbconvert->notebook>=4.4.1->widgetsnbextension~=3.5.0->ipywidgets>=7.6.0->ipycytoscape) (0.5.1)\n",
      "Installing collected packages: networkx, spectate, ipycytoscape\n",
      "Successfully installed ipycytoscape-1.2.0 networkx-2.5 spectate-1.0.1\n"
     ]
    }
   ],
   "source": [
    "!pip install ipycytoscape"
   ]
  },
  {
   "cell_type": "code",
   "execution_count": 4,
   "metadata": {},
   "outputs": [
    {
     "name": "stdout",
     "output_type": "stream",
     "text": [
      "Collecting py2neo==2021.0.1\n",
      "  Downloading py2neo-2021.0.1-py2.py3-none-any.whl (195 kB)\n",
      "Collecting docker\n",
      "  Downloading docker-4.4.4-py2.py3-none-any.whl (147 kB)\n",
      "Collecting monotonic\n",
      "  Downloading monotonic-1.5-py2.py3-none-any.whl (5.3 kB)\n",
      "Collecting neotime~=1.7.4\n",
      "  Downloading neotime-1.7.4.tar.gz (17 kB)\n",
      "Requirement already satisfied: pygments>=2.0.0 in c:\\users\\dimitar\\appdata\\roaming\\python\\python37\\site-packages (from py2neo==2021.0.1) (2.5.2)\n",
      "Requirement already satisfied: pytz in c:\\users\\dimitar\\anaconda3\\envs\\jupyterbook_env\\lib\\site-packages (from py2neo==2021.0.1) (2020.5)\n",
      "Collecting cryptography\n",
      "  Downloading cryptography-3.4.7-cp36-abi3-win_amd64.whl (1.6 MB)\n",
      "Requirement already satisfied: packaging in c:\\users\\dimitar\\anaconda3\\envs\\jupyterbook_env\\lib\\site-packages (from py2neo==2021.0.1) (20.8)\n",
      "Collecting six>=1.15.0\n",
      "  Using cached six-1.15.0-py2.py3-none-any.whl (10 kB)\n",
      "Collecting english\n",
      "  Downloading english-2020.7.0-py2.py3-none-any.whl (8.1 kB)\n",
      "Requirement already satisfied: urllib3 in c:\\users\\dimitar\\anaconda3\\envs\\jupyterbook_env\\lib\\site-packages (from py2neo==2021.0.1) (1.26.2)\n",
      "Collecting pansi>=2020.7.3\n",
      "  Downloading pansi-2020.7.3-py2.py3-none-any.whl (10 kB)\n",
      "Requirement already satisfied: certifi in c:\\users\\dimitar\\anaconda3\\envs\\jupyterbook_env\\lib\\site-packages (from py2neo==2021.0.1) (2020.12.5)\n",
      "Collecting prompt-toolkit~=2.0.7\n",
      "  Downloading prompt_toolkit-2.0.10-py3-none-any.whl (340 kB)\n",
      "Collecting websocket-client>=0.32.0\n",
      "  Downloading websocket_client-0.58.0-py2.py3-none-any.whl (61 kB)\n",
      "Requirement already satisfied: pywin32==227; sys_platform == \"win32\" in c:\\users\\dimitar\\appdata\\roaming\\python\\python37\\site-packages (from docker->py2neo==2021.0.1) (227)\n",
      "Requirement already satisfied: requests!=2.18.0,>=2.14.2 in c:\\users\\dimitar\\anaconda3\\envs\\jupyterbook_env\\lib\\site-packages (from docker->py2neo==2021.0.1) (2.25.1)\n",
      "Requirement already satisfied: cffi>=1.12 in c:\\users\\dimitar\\anaconda3\\envs\\jupyterbook_env\\lib\\site-packages (from cryptography->py2neo==2021.0.1) (1.14.4)\n",
      "Requirement already satisfied: pyparsing>=2.0.2 in c:\\users\\dimitar\\appdata\\roaming\\python\\python37\\site-packages (from packaging->py2neo==2021.0.1) (2.4.6)\n",
      "Requirement already satisfied: wcwidth in c:\\users\\dimitar\\appdata\\roaming\\python\\python37\\site-packages (from prompt-toolkit~=2.0.7->py2neo==2021.0.1) (0.1.8)\n",
      "Requirement already satisfied: idna<3,>=2.5 in c:\\users\\dimitar\\anaconda3\\envs\\jupyterbook_env\\lib\\site-packages (from requests!=2.18.0,>=2.14.2->docker->py2neo==2021.0.1) (2.10)\n",
      "Requirement already satisfied: chardet<5,>=3.0.2 in c:\\users\\dimitar\\anaconda3\\envs\\jupyterbook_env\\lib\\site-packages (from requests!=2.18.0,>=2.14.2->docker->py2neo==2021.0.1) (4.0.0)\n",
      "Requirement already satisfied: pycparser in c:\\users\\dimitar\\anaconda3\\envs\\jupyterbook_env\\lib\\site-packages (from cffi>=1.12->cryptography->py2neo==2021.0.1) (2.20)\n",
      "Building wheels for collected packages: neotime\n",
      "  Building wheel for neotime (setup.py): started\n",
      "  Building wheel for neotime (setup.py): finished with status 'done'\n",
      "  Created wheel for neotime: filename=neotime-1.7.4-py3-none-any.whl size=20541 sha256=694a6f5e9b69da01f5bf38f088134ac8f2a5b71a0c0fba3074d354ae10bf3bfe\n",
      "  Stored in directory: c:\\users\\dimitar\\appdata\\local\\pip\\cache\\wheels\\1b\\53\\64\\de72baae858a94a3ed2c6b1117edf988b2b8d57b798097e5b3\n",
      "Successfully built neotime\n",
      "Installing collected packages: six, websocket-client, docker, monotonic, neotime, cryptography, english, pansi, prompt-toolkit, py2neo\n",
      "  Attempting uninstall: six\n",
      "    Found existing installation: six 1.14.0\n",
      "    Uninstalling six-1.14.0:\n",
      "      Successfully uninstalled six-1.14.0\n",
      "  Attempting uninstall: prompt-toolkit\n",
      "    Found existing installation: prompt-toolkit 3.0.3\n",
      "    Uninstalling prompt-toolkit-3.0.3:\n",
      "      Successfully uninstalled prompt-toolkit-3.0.3\n",
      "Successfully installed cryptography-3.4.7 docker-4.4.4 english-2020.7.0 monotonic-1.5 neotime-1.7.4 pansi-2020.7.3 prompt-toolkit-3.0.8 py2neo-2021.0.1 six-1.15.0 websocket-client-0.58.0\n"
     ]
    },
    {
     "name": "stderr",
     "output_type": "stream",
     "text": [
      "ERROR: nbinteract 0.2.6 has requirement nbformat<5,>=4.4.0, but you'll have nbformat 5.1.2 which is incompatible.\n",
      "WARNING: You are using pip version 20.0.2; however, version 21.0.1 is available.\n",
      "You should consider upgrading via the 'C:\\Users\\Dimitar\\Anaconda3\\envs\\jupyterbook_env\\python.exe -m pip install --upgrade pip' command.\n"
     ]
    }
   ],
   "source": [
    "!pip install py2neo==2021.0.1"
   ]
  },
  {
   "cell_type": "code",
   "execution_count": 5,
   "metadata": {},
   "outputs": [],
   "source": [
    "import random\n",
    "import ipycytoscape\n",
    "from py2neo import Graph"
   ]
  },
  {
   "cell_type": "markdown",
   "metadata": {},
   "source": [
    "#### Node and edge styles"
   ]
  },
  {
   "cell_type": "code",
   "execution_count": 6,
   "metadata": {},
   "outputs": [],
   "source": [
    "node_centered = {'selector': 'node',\n",
    "                 'style': {'font-size': '10',\n",
    "                           'label': 'data(name)',\n",
    "                           'height': '60',\n",
    "                           'width': '80',\n",
    "                           'text-max-width': '80',\n",
    "                           'text-wrap': 'wrap',\n",
    "                           'text-valign': 'center',\n",
    "                           'background-color': 'blue',\n",
    "                           'background-opacity': 0.6}\n",
    "             }"
   ]
  },
  {
   "cell_type": "code",
   "execution_count": 7,
   "metadata": {},
   "outputs": [],
   "source": [
    "edge_directed = {'selector': 'edge',\n",
    "                 'style':  {'line-color': '#9dbaea',\n",
    "                            'target-arrow-shape': 'triangle',\n",
    "                            'target-arrow-color': '#9dbaea',\n",
    "                            'curve-style': 'bezier'}\n",
    "                }"
   ]
  },
  {
   "cell_type": "code",
   "execution_count": 8,
   "metadata": {},
   "outputs": [],
   "source": [
    "edge_directed_named = {'selector': 'edge',\n",
    "                       'style':  {'font-size': '8',\n",
    "                                  'label': 'data(name)',\n",
    "                                  'line-color': '#9dbaea',\n",
    "                                  'text-rotation': 'autorotate',\n",
    "                                  'target-arrow-shape': 'triangle',\n",
    "                                  'target-arrow-color': '#9dbaea',\n",
    "                                  'curve-style': 'bezier'}\n",
    "                }"
   ]
  },
  {
   "cell_type": "code",
   "execution_count": 9,
   "metadata": {},
   "outputs": [],
   "source": [
    "edge_undirected = {'selector': 'edge',\n",
    "                   'style':  {'line-color': '#9dbaea'}\n",
    "                  }"
   ]
  },
  {
   "cell_type": "markdown",
   "metadata": {},
   "source": [
    "#### Node colors\n",
    "Change seed to select a different color palette."
   ]
  },
  {
   "cell_type": "code",
   "execution_count": 10,
   "metadata": {},
   "outputs": [],
   "source": [
    "def random_color_palette(n_colors, seed=6):\n",
    "    \"\"\" \n",
    "    Creates a random color palette of n_colors \n",
    "    See https://stackoverflow.com/questions/28999287/generate-random-colors-rgb\n",
    "    \n",
    "    \"\"\"\n",
    "    random.seed(seed)\n",
    "    return ['#'+''.join([random.choice('0123456789ABCDEF') for j in range(6)]) for i in range(n_colors)]"
   ]
  },
  {
   "cell_type": "markdown",
   "metadata": {},
   "source": [
    "### Connect to a Neo4j Database\n",
    "Here we use the [COVID-19-Net](https://github.com/covid-19-net/covid-19-community) Knowledge Graph to demonstrate how to run a Neo4j Cypher query and pass the resulting subgraph into Cytoscape."
   ]
  },
  {
   "cell_type": "code",
   "execution_count": 14,
   "metadata": {},
   "outputs": [],
   "source": [
    "graph = Graph(\"bolt://132.249.238.185:7687\", user=\"reader\", password=\"demo\")"
   ]
  },
  {
   "cell_type": "markdown",
   "metadata": {},
   "source": [
    "### Example 1: Find all cities with the name \"San Francisco\"\n",
    "This query demonstrates the geographic hierachy in COVID-19-Net."
   ]
  },
  {
   "cell_type": "code",
   "execution_count": 15,
   "metadata": {},
   "outputs": [],
   "source": [
    "query1 = \"\"\"\n",
    "MATCH p=(:City{name:'Skopje'})-[:IN*]->(:World) RETURN p\n",
    "\"\"\"\n",
    "subgraph1 = graph.run(query1).to_subgraph()"
   ]
  },
  {
   "cell_type": "markdown",
   "metadata": {},
   "source": [
    "#### Add Neo4j subgraph to Cytoscape Widget"
   ]
  },
  {
   "cell_type": "code",
   "execution_count": 16,
   "metadata": {},
   "outputs": [
    {
     "ename": "AttributeError",
     "evalue": "'Graph' object has no attribute 'add_graph_from_neo4j'",
     "output_type": "error",
     "traceback": [
      "\u001b[1;31m---------------------------------------------------------------------------\u001b[0m",
      "\u001b[1;31mAttributeError\u001b[0m                            Traceback (most recent call last)",
      "\u001b[1;32m<ipython-input-16-4771711b4d9c>\u001b[0m in \u001b[0;36m<module>\u001b[1;34m\u001b[0m\n\u001b[0;32m      1\u001b[0m \u001b[0mwidget1\u001b[0m \u001b[1;33m=\u001b[0m \u001b[0mipycytoscape\u001b[0m\u001b[1;33m.\u001b[0m\u001b[0mCytoscapeWidget\u001b[0m\u001b[1;33m(\u001b[0m\u001b[1;33m)\u001b[0m\u001b[1;33m\u001b[0m\u001b[1;33m\u001b[0m\u001b[0m\n\u001b[1;32m----> 2\u001b[1;33m \u001b[0mwidget1\u001b[0m\u001b[1;33m.\u001b[0m\u001b[0mgraph\u001b[0m\u001b[1;33m.\u001b[0m\u001b[0madd_graph_from_neo4j\u001b[0m\u001b[1;33m(\u001b[0m\u001b[0msubgraph1\u001b[0m\u001b[1;33m)\u001b[0m\u001b[1;33m\u001b[0m\u001b[1;33m\u001b[0m\u001b[0m\n\u001b[0m",
      "\u001b[1;31mAttributeError\u001b[0m: 'Graph' object has no attribute 'add_graph_from_neo4j'"
     ]
    }
   ],
   "source": [
    "widget1 = ipycytoscape.CytoscapeWidget()\n",
    "widget1.graph.add_graph_from_neo4j(subgraph1)"
   ]
  },
  {
   "cell_type": "markdown",
   "metadata": {},
   "source": [
    "#### Set node and edge styles"
   ]
  },
  {
   "cell_type": "code",
   "execution_count": null,
   "metadata": {},
   "outputs": [],
   "source": [
    "style1 = [node_centered, edge_directed]"
   ]
  },
  {
   "cell_type": "markdown",
   "metadata": {},
   "source": [
    "#### Set node specific colors based on node labels"
   ]
  },
  {
   "cell_type": "code",
   "execution_count": null,
   "metadata": {},
   "outputs": [],
   "source": [
    "labels1 = list(subgraph1.labels())\n",
    "print('Node labels:', labels1)"
   ]
  },
  {
   "cell_type": "code",
   "execution_count": 106,
   "metadata": {},
   "outputs": [],
   "source": [
    "colors1 = random_color_palette(len(labels1))"
   ]
  },
  {
   "cell_type": "code",
   "execution_count": 107,
   "metadata": {},
   "outputs": [],
   "source": [
    "for label, color in zip(labels1, colors1):\n",
    "    style1.append({'selector': 'node[label = \"' + label + '\"]', 'style': {'background-color': color}})"
   ]
  },
  {
   "cell_type": "code",
   "execution_count": 108,
   "metadata": {},
   "outputs": [],
   "source": [
    "widget1.set_style(style1)"
   ]
  },
  {
   "cell_type": "code",
   "execution_count": 109,
   "metadata": {},
   "outputs": [],
   "source": [
    "widget1.set_layout(name='dagre', padding=0)"
   ]
  },
  {
   "cell_type": "markdown",
   "metadata": {},
   "source": [
    "When a Neo4j subgraph is added to a Cytoscape graph, a tooltip attribute is generated that contains all Neo4j node properties."
   ]
  },
  {
   "cell_type": "code",
   "execution_count": 110,
   "metadata": {},
   "outputs": [],
   "source": [
    "widget1.set_tooltip_source('tooltip')"
   ]
  },
  {
   "cell_type": "markdown",
   "metadata": {},
   "source": [
    "Click on a node to show the tooltip"
   ]
  },
  {
   "cell_type": "code",
   "execution_count": 111,
   "metadata": {},
   "outputs": [
    {
     "data": {
      "application/vnd.jupyter.widget-view+json": {
       "model_id": "99995402d4a64b4693806aaba1150a47",
       "version_major": 2,
       "version_minor": 0
      },
      "text/plain": [
       "CytoscapeWidget(cytoscape_layout={'name': 'dagre', 'padding': 0}, cytoscape_style=[{'selector': 'node', 'style…"
      ]
     },
     "metadata": {},
     "output_type": "display_data"
    }
   ],
   "source": [
    "widget1"
   ]
  },
  {
   "cell_type": "markdown",
   "metadata": {},
   "source": [
    "### Example 2: Find all proteins that interact with the SARS-CoV-2 Spike protein\n",
    "Here we run an undirected query (no \"->\" arrow) since the direction of interaction is arbitrary."
   ]
  },
  {
   "cell_type": "code",
   "execution_count": 112,
   "metadata": {},
   "outputs": [],
   "source": [
    "query2 = \"\"\"\n",
    "MATCH p=(:Protein{name: 'Spike glycoprotein', taxonomyId: 'taxonomy:2697049'})-[:INTERACTS_WITH]-(:Protein) RETURN p\n",
    "\"\"\"\n",
    "subgraph2 = graph.run(query2).to_subgraph()"
   ]
  },
  {
   "cell_type": "code",
   "execution_count": 113,
   "metadata": {},
   "outputs": [],
   "source": [
    "widget2 = ipycytoscape.CytoscapeWidget()\n",
    "widget2.graph.add_graph_from_neo4j(subgraph2)"
   ]
  },
  {
   "cell_type": "code",
   "execution_count": 114,
   "metadata": {},
   "outputs": [],
   "source": [
    "style2 = [node_centered, edge_undirected]"
   ]
  },
  {
   "cell_type": "code",
   "execution_count": 115,
   "metadata": {},
   "outputs": [
    {
     "name": "stdout",
     "output_type": "stream",
     "text": [
      "Node labels: ['Protein']\n"
     ]
    }
   ],
   "source": [
    "labels2 = list(subgraph2.labels())\n",
    "print('Node labels:', labels2)"
   ]
  },
  {
   "cell_type": "code",
   "execution_count": 116,
   "metadata": {},
   "outputs": [],
   "source": [
    "colors2 = random_color_palette(len(labels2))"
   ]
  },
  {
   "cell_type": "code",
   "execution_count": 117,
   "metadata": {},
   "outputs": [],
   "source": [
    "for label, color in zip(labels2, colors2):\n",
    "    style2.append({'selector': 'node[label = \"' + label + '\"]', 'style': {'background-color': color}})"
   ]
  },
  {
   "cell_type": "code",
   "execution_count": 118,
   "metadata": {},
   "outputs": [],
   "source": [
    "widget2.set_style(style2)"
   ]
  },
  {
   "cell_type": "code",
   "execution_count": 119,
   "metadata": {},
   "outputs": [],
   "source": [
    "widget2.set_layout(name='concentric', padding=0)"
   ]
  },
  {
   "cell_type": "code",
   "execution_count": 120,
   "metadata": {},
   "outputs": [],
   "source": [
    "widget2.set_tooltip_source('tooltip')"
   ]
  },
  {
   "cell_type": "markdown",
   "metadata": {},
   "source": [
    "Click on a node to show the tooltip"
   ]
  },
  {
   "cell_type": "code",
   "execution_count": 121,
   "metadata": {},
   "outputs": [
    {
     "data": {
      "application/vnd.jupyter.widget-view+json": {
       "model_id": "b7d6a7f9843e4337959985e4a6780534",
       "version_major": 2,
       "version_minor": 0
      },
      "text/plain": [
       "CytoscapeWidget(cytoscape_layout={'name': 'concentric', 'padding': 0}, cytoscape_style=[{'selector': 'node', '…"
      ]
     },
     "metadata": {},
     "output_type": "display_data"
    }
   ],
   "source": [
    "widget2"
   ]
  },
  {
   "cell_type": "markdown",
   "metadata": {},
   "source": [
    "### Example 3: Explore the Data Sources used to create the COVID-19-Net Knowledge Graph"
   ]
  },
  {
   "cell_type": "code",
   "execution_count": 122,
   "metadata": {},
   "outputs": [],
   "source": [
    "query3 = \"\"\"\n",
    "MATCH p=(:MetaNode)-[:ETL_FROM]->(:DataSource) RETURN p  // ETL_FROM: Extracted, transformed, and loaded FROM\n",
    "\"\"\"\n",
    "subgraph3 = graph.run(query3).to_subgraph()"
   ]
  },
  {
   "cell_type": "code",
   "execution_count": 123,
   "metadata": {},
   "outputs": [],
   "source": [
    "widget3 = ipycytoscape.CytoscapeWidget()\n",
    "widget3.graph.add_graph_from_neo4j(subgraph3)"
   ]
  },
  {
   "cell_type": "code",
   "execution_count": 124,
   "metadata": {},
   "outputs": [],
   "source": [
    "style3 = [node_centered, edge_directed]"
   ]
  },
  {
   "cell_type": "code",
   "execution_count": 125,
   "metadata": {},
   "outputs": [
    {
     "name": "stdout",
     "output_type": "stream",
     "text": [
      "Node labels: ['DataSource', 'MetaNode']\n"
     ]
    }
   ],
   "source": [
    "labels3 = list(subgraph3.labels())\n",
    "print('Node labels:', labels3)"
   ]
  },
  {
   "cell_type": "code",
   "execution_count": 126,
   "metadata": {},
   "outputs": [],
   "source": [
    "colors3 = random_color_palette(len(labels3))"
   ]
  },
  {
   "cell_type": "code",
   "execution_count": 127,
   "metadata": {},
   "outputs": [],
   "source": [
    "for label, color in zip(labels3, colors3):\n",
    "    style3.append({'selector': 'node[label = \"' + label + '\"]', 'style': {'background-color': color}})"
   ]
  },
  {
   "cell_type": "code",
   "execution_count": 128,
   "metadata": {},
   "outputs": [],
   "source": [
    "widget3.set_style(style3)"
   ]
  },
  {
   "cell_type": "code",
   "execution_count": 129,
   "metadata": {},
   "outputs": [],
   "source": [
    "widget3.set_layout(name='klay', padding=0)"
   ]
  },
  {
   "cell_type": "code",
   "execution_count": 130,
   "metadata": {},
   "outputs": [],
   "source": [
    "widget3.set_tooltip_source('tooltip')"
   ]
  },
  {
   "cell_type": "markdown",
   "metadata": {},
   "source": [
    "Click on a node to show the tooltip"
   ]
  },
  {
   "cell_type": "code",
   "execution_count": 131,
   "metadata": {},
   "outputs": [
    {
     "data": {
      "application/vnd.jupyter.widget-view+json": {
       "model_id": "0a7ae29a6e3f4e34a24d7623e6c1cef8",
       "version_major": 2,
       "version_minor": 0
      },
      "text/plain": [
       "CytoscapeWidget(cytoscape_layout={'name': 'klay', 'padding': 0}, cytoscape_style=[{'selector': 'node', 'style'…"
      ]
     },
     "metadata": {},
     "output_type": "display_data"
    }
   ],
   "source": [
    "widget3"
   ]
  },
  {
   "cell_type": "markdown",
   "metadata": {},
   "source": [
    "### Example 4: Create a Metagraph that shows the Nodes and their Relationships in the COVID-19-Net Knowledge Graph"
   ]
  },
  {
   "cell_type": "code",
   "execution_count": 132,
   "metadata": {},
   "outputs": [],
   "source": [
    "query4 = \"\"\"\n",
    "MATCH p=(a:MetaNode)-[:META_RELATIONSHIP]->(b:MetaNode) \n",
    "WHERE a.name <> 'Location' AND b.name <> 'Location' // exclude Location nodes since they make the graph too crowded\n",
    "RETURN p\n",
    "\"\"\"\n",
    "subgraph4 = graph.run(query4).to_subgraph()"
   ]
  },
  {
   "cell_type": "code",
   "execution_count": 133,
   "metadata": {},
   "outputs": [],
   "source": [
    "widget4 = ipycytoscape.CytoscapeWidget()\n",
    "widget4.graph.add_graph_from_neo4j(subgraph4)"
   ]
  },
  {
   "cell_type": "code",
   "execution_count": 134,
   "metadata": {},
   "outputs": [],
   "source": [
    "style4 = [node_centered, edge_directed_named]"
   ]
  },
  {
   "cell_type": "code",
   "execution_count": 135,
   "metadata": {},
   "outputs": [
    {
     "name": "stdout",
     "output_type": "stream",
     "text": [
      "Node labels: ['MetaNode']\n"
     ]
    }
   ],
   "source": [
    "labels4 = list(subgraph4.labels())\n",
    "print('Node labels:', labels4)"
   ]
  },
  {
   "cell_type": "code",
   "execution_count": 136,
   "metadata": {},
   "outputs": [],
   "source": [
    "colors4 = random_color_palette(len(labels4))"
   ]
  },
  {
   "cell_type": "code",
   "execution_count": 137,
   "metadata": {},
   "outputs": [],
   "source": [
    "for label, color in zip(labels4, colors4):\n",
    "    style4.append({'selector': 'node[label = \"' + label + '\"]', 'style': {'background-color': color}})"
   ]
  },
  {
   "cell_type": "code",
   "execution_count": 138,
   "metadata": {},
   "outputs": [],
   "source": [
    "widget4.set_style(style4)"
   ]
  },
  {
   "cell_type": "markdown",
   "metadata": {},
   "source": [
    "Cola layout [options](https://github.com/cytoscape/cytoscape.js-cola#api)"
   ]
  },
  {
   "cell_type": "code",
   "execution_count": 139,
   "metadata": {},
   "outputs": [],
   "source": [
    "widget4.set_layout(name='cola', padding=0, nodeSpacing=65, nodeDimensionsIncludeLabels=True, unconstrIter=5000)"
   ]
  },
  {
   "cell_type": "code",
   "execution_count": 140,
   "metadata": {},
   "outputs": [],
   "source": [
    "widget4.set_tooltip_source('tooltip')"
   ]
  },
  {
   "cell_type": "markdown",
   "metadata": {},
   "source": [
    "Click on a node to show the node tooltip"
   ]
  },
  {
   "cell_type": "code",
   "execution_count": 141,
   "metadata": {},
   "outputs": [
    {
     "data": {
      "application/vnd.jupyter.widget-view+json": {
       "model_id": "ce207b8f2d584f8bad587eff4eddf628",
       "version_major": 2,
       "version_minor": 0
      },
      "text/plain": [
       "CytoscapeWidget(cytoscape_layout={'name': 'cola', 'padding': 0, 'nodeSpacing': 65, 'nodeDimensionsIncludeLabel…"
      ]
     },
     "metadata": {},
     "output_type": "display_data"
    }
   ],
   "source": [
    "widget4"
   ]
  },
  {
   "cell_type": "code",
   "execution_count": null,
   "metadata": {},
   "outputs": [],
   "source": []
  }
 ],
 "metadata": {
  "kernelspec": {
   "display_name": "Python 3",
   "language": "python",
   "name": "python3"
  },
  "language_info": {
   "codemirror_mode": {
    "name": "ipython",
    "version": 3
   },
   "file_extension": ".py",
   "mimetype": "text/x-python",
   "name": "python",
   "nbconvert_exporter": "python",
   "pygments_lexer": "ipython3",
   "version": "3.7.9"
  }
 },
 "nbformat": 4,
 "nbformat_minor": 4
}